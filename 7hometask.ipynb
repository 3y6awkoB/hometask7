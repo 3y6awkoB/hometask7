import numpy as np
from scipy.stats import binom
import math

M = 10
y = np.array([7, 7, 1, 3, 2, 1, 5, 1, 4, 0, 2, 3, 3, 1, 2, 2, 3, 1, 4, 0, 
8, 3, 5, 3, 0, 0, 7, 1, 1, 3, 1, 3, 2, 4, 1, 6, 2, 2, 4, 1, 3, 1, 1, 2, 7, 3, 3, 2, 2, 2])

np.random.seed(42)
mu = np.random.rand(2)
pi = np.array([0.5, 0.5])
pi1, mu1 = None, None
eps = 1e-7
ind = 0

while True:
    print(f'iteraton №{ind}:')
    print(f'pi = {pi}')
    print(f'mu = {mu}')
    print()
    
    ind += 1
    
    r = binom.pmf(y[:, None], M, mu[None, :]) * pi[None, :]
    r /= np.sum(r, axis=1)[:, None]
    
    pi1, mu1 = pi.copy(), mu.copy()
    pi = r.mean(axis=0)
    mu = np.sum(y[:, None] * r, axis=0) / r.sum(axis=0) / M
    
    if np.abs(pi - pi1).sum() < eps and np.abs(mu - mu1).sum() < eps:
        break
        
print(f'pi = {pi}')
print(f'mu = {mu}')
